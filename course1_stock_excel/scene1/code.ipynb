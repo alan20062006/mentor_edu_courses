{
 "cells": [
  {
   "cell_type": "markdown",
   "metadata": {},
   "source": [
    "假设我是一名证券分析师，我跟踪了很多支股票，每一支股价信息存在不同的csv表格里面。\n",
    "现在我要，把不同股票的信息(AAPL.csv, AMAZ.csv等等，文件名称是股票代码)，合并到一个excel文件里（如stock_price.xlsx）。\n",
    "在合并文件里，每一个sheet都是不同的股票信息，sheet的名字是股票代码。\n",
    "在一个sheet中，有7列，分别是交易日期，开盘价，当日最高价，最低价，复权后的最高，最低价，以及成交量。\n",
    "\n",
    "需要做的事情有：\n",
    "1. 利用其他的excel表格，生成stock_price.xlsx这样的一个合并表格\n",
    "2. 算出每一支股票在每一个自然月中价格变动幅度（百分数），另存成一个sheet\n",
    "3. 算出每支股票近一年的涨幅（百分数），生成一个新sheet，两列，第一列是股票代码，第二列是涨幅，按照涨幅从大到小排序\n",
    "\n",
    "合并出来的表可能很大，excel加载慢，复杂运算可能造成司机，python读取和操作更快\n",
    "这个可能也可以用在银行客户管理上，可以用于合并每一个客户的存取款信息及账户余额信息，计算每月平均存款数值，检测账户金额异常变动等"
   ]
  },
  {
   "cell_type": "code",
   "execution_count": 241,
   "metadata": {},
   "outputs": [],
   "source": [
    "# 头文件的引用\n",
    "import pandas as pd\n",
    "import os"
   ]
  },
  {
   "cell_type": "markdown",
   "metadata": {},
   "source": [
    "## 个股csv文件读取"
   ]
  },
  {
   "cell_type": "code",
   "execution_count": 242,
   "metadata": {},
   "outputs": [],
   "source": [
    "data = dict()\n",
    "for file in os.listdir('./'):\n",
    "    file_split = file.split('.')\n",
    "    if file_split[-1]=='csv':\n",
    "        f = pd.read_csv(file_split[0]+\".csv\")\n",
    "        data[file_split[0]] = f"
   ]
  },
  {
   "cell_type": "code",
   "execution_count": 243,
   "metadata": {},
   "outputs": [
    {
     "name": "stdout",
     "output_type": "stream",
     "text": [
      "<class 'dict'>\n"
     ]
    },
    {
     "data": {
      "text/plain": [
       "dict_keys(['AMZN', 'MSFT', 'FB', 'NFLX', 'TSLA', 'GOOG', 'BABA', 'AAPL'])"
      ]
     },
     "execution_count": 243,
     "metadata": {},
     "output_type": "execute_result"
    }
   ],
   "source": [
    "print(type(data))\n",
    "stock_names = data.keys()\n",
    "stock_names"
   ]
  },
  {
   "cell_type": "code",
   "execution_count": 244,
   "metadata": {},
   "outputs": [
    {
     "data": {
      "text/plain": [
       "pandas.core.frame.DataFrame"
      ]
     },
     "execution_count": 244,
     "metadata": {},
     "output_type": "execute_result"
    }
   ],
   "source": [
    "type(data['AMZN'])"
   ]
  },
  {
   "cell_type": "markdown",
   "metadata": {},
   "source": [
    "## 文件数据概述"
   ]
  },
  {
   "cell_type": "code",
   "execution_count": 245,
   "metadata": {},
   "outputs": [],
   "source": [
    "example=data['AMZN'].copy()"
   ]
  },
  {
   "cell_type": "code",
   "execution_count": 246,
   "metadata": {},
   "outputs": [
    {
     "data": {
      "text/html": [
       "<div>\n",
       "<style scoped>\n",
       "    .dataframe tbody tr th:only-of-type {\n",
       "        vertical-align: middle;\n",
       "    }\n",
       "\n",
       "    .dataframe tbody tr th {\n",
       "        vertical-align: top;\n",
       "    }\n",
       "\n",
       "    .dataframe thead th {\n",
       "        text-align: right;\n",
       "    }\n",
       "</style>\n",
       "<table border=\"1\" class=\"dataframe\">\n",
       "  <thead>\n",
       "    <tr style=\"text-align: right;\">\n",
       "      <th></th>\n",
       "      <th>Date</th>\n",
       "      <th>Open</th>\n",
       "      <th>High</th>\n",
       "      <th>Low</th>\n",
       "      <th>Close</th>\n",
       "      <th>Adj Close</th>\n",
       "      <th>Volume</th>\n",
       "    </tr>\n",
       "  </thead>\n",
       "  <tbody>\n",
       "    <tr>\n",
       "      <td>0</td>\n",
       "      <td>2014/11/28</td>\n",
       "      <td>539.139771</td>\n",
       "      <td>540.515991</td>\n",
       "      <td>535.130798</td>\n",
       "      <td>540.346497</td>\n",
       "      <td>540.346497</td>\n",
       "      <td>1148300</td>\n",
       "    </tr>\n",
       "    <tr>\n",
       "      <td>1</td>\n",
       "      <td>2014/12/1</td>\n",
       "      <td>537.424500</td>\n",
       "      <td>539.927612</td>\n",
       "      <td>530.403748</td>\n",
       "      <td>532.338440</td>\n",
       "      <td>532.338440</td>\n",
       "      <td>2115300</td>\n",
       "    </tr>\n",
       "  </tbody>\n",
       "</table>\n",
       "</div>"
      ],
      "text/plain": [
       "         Date        Open        High         Low       Close   Adj Close  \\\n",
       "0  2014/11/28  539.139771  540.515991  535.130798  540.346497  540.346497   \n",
       "1   2014/12/1  537.424500  539.927612  530.403748  532.338440  532.338440   \n",
       "\n",
       "    Volume  \n",
       "0  1148300  \n",
       "1  2115300  "
      ]
     },
     "execution_count": 246,
     "metadata": {},
     "output_type": "execute_result"
    }
   ],
   "source": [
    "example.head(2)"
   ]
  },
  {
   "cell_type": "code",
   "execution_count": 247,
   "metadata": {},
   "outputs": [
    {
     "data": {
      "text/plain": [
       "Index(['Date', 'Open', 'High', 'Low', 'Close', 'Adj Close', 'Volume'], dtype='object')"
      ]
     },
     "execution_count": 247,
     "metadata": {},
     "output_type": "execute_result"
    }
   ],
   "source": [
    "example.columns"
   ]
  },
  {
   "cell_type": "code",
   "execution_count": 248,
   "metadata": {},
   "outputs": [
    {
     "data": {
      "text/html": [
       "<div>\n",
       "<style scoped>\n",
       "    .dataframe tbody tr th:only-of-type {\n",
       "        vertical-align: middle;\n",
       "    }\n",
       "\n",
       "    .dataframe tbody tr th {\n",
       "        vertical-align: top;\n",
       "    }\n",
       "\n",
       "    .dataframe thead th {\n",
       "        text-align: right;\n",
       "    }\n",
       "</style>\n",
       "<table border=\"1\" class=\"dataframe\">\n",
       "  <thead>\n",
       "    <tr style=\"text-align: right;\">\n",
       "      <th></th>\n",
       "      <th>Open</th>\n",
       "      <th>High</th>\n",
       "      <th>Low</th>\n",
       "      <th>Close</th>\n",
       "      <th>Adj Close</th>\n",
       "      <th>Volume</th>\n",
       "    </tr>\n",
       "  </thead>\n",
       "  <tbody>\n",
       "    <tr>\n",
       "      <td>count</td>\n",
       "      <td>1259.000000</td>\n",
       "      <td>1259.000000</td>\n",
       "      <td>1259.000000</td>\n",
       "      <td>1259.000000</td>\n",
       "      <td>1259.000000</td>\n",
       "      <td>1.259000e+03</td>\n",
       "    </tr>\n",
       "    <tr>\n",
       "      <td>mean</td>\n",
       "      <td>898.777303</td>\n",
       "      <td>906.494730</td>\n",
       "      <td>891.034000</td>\n",
       "      <td>899.057177</td>\n",
       "      <td>899.057177</td>\n",
       "      <td>1.720754e+06</td>\n",
       "    </tr>\n",
       "    <tr>\n",
       "      <td>std</td>\n",
       "      <td>229.229864</td>\n",
       "      <td>231.481069</td>\n",
       "      <td>227.464112</td>\n",
       "      <td>229.603040</td>\n",
       "      <td>229.603040</td>\n",
       "      <td>8.517839e+05</td>\n",
       "    </tr>\n",
       "    <tr>\n",
       "      <td>min</td>\n",
       "      <td>493.295654</td>\n",
       "      <td>494.618011</td>\n",
       "      <td>486.225067</td>\n",
       "      <td>491.201416</td>\n",
       "      <td>491.201416</td>\n",
       "      <td>5.272000e+05</td>\n",
       "    </tr>\n",
       "    <tr>\n",
       "      <td>25%</td>\n",
       "      <td>722.109985</td>\n",
       "      <td>726.404999</td>\n",
       "      <td>715.814972</td>\n",
       "      <td>719.970001</td>\n",
       "      <td>719.970001</td>\n",
       "      <td>1.217600e+06</td>\n",
       "    </tr>\n",
       "    <tr>\n",
       "      <td>50%</td>\n",
       "      <td>922.530029</td>\n",
       "      <td>926.549988</td>\n",
       "      <td>915.500000</td>\n",
       "      <td>921.809998</td>\n",
       "      <td>921.809998</td>\n",
       "      <td>1.496800e+06</td>\n",
       "    </tr>\n",
       "    <tr>\n",
       "      <td>75%</td>\n",
       "      <td>1104.205017</td>\n",
       "      <td>1112.838012</td>\n",
       "      <td>1094.605041</td>\n",
       "      <td>1103.614990</td>\n",
       "      <td>1103.614990</td>\n",
       "      <td>1.968500e+06</td>\n",
       "    </tr>\n",
       "    <tr>\n",
       "      <td>max</td>\n",
       "      <td>1332.219971</td>\n",
       "      <td>1335.529053</td>\n",
       "      <td>1317.500000</td>\n",
       "      <td>1334.869995</td>\n",
       "      <td>1334.869995</td>\n",
       "      <td>1.116490e+07</td>\n",
       "    </tr>\n",
       "  </tbody>\n",
       "</table>\n",
       "</div>"
      ],
      "text/plain": [
       "              Open         High          Low        Close    Adj Close  \\\n",
       "count  1259.000000  1259.000000  1259.000000  1259.000000  1259.000000   \n",
       "mean    898.777303   906.494730   891.034000   899.057177   899.057177   \n",
       "std     229.229864   231.481069   227.464112   229.603040   229.603040   \n",
       "min     493.295654   494.618011   486.225067   491.201416   491.201416   \n",
       "25%     722.109985   726.404999   715.814972   719.970001   719.970001   \n",
       "50%     922.530029   926.549988   915.500000   921.809998   921.809998   \n",
       "75%    1104.205017  1112.838012  1094.605041  1103.614990  1103.614990   \n",
       "max    1332.219971  1335.529053  1317.500000  1334.869995  1334.869995   \n",
       "\n",
       "             Volume  \n",
       "count  1.259000e+03  \n",
       "mean   1.720754e+06  \n",
       "std    8.517839e+05  \n",
       "min    5.272000e+05  \n",
       "25%    1.217600e+06  \n",
       "50%    1.496800e+06  \n",
       "75%    1.968500e+06  \n",
       "max    1.116490e+07  "
      ]
     },
     "execution_count": 248,
     "metadata": {},
     "output_type": "execute_result"
    }
   ],
   "source": [
    "example.describe()"
   ]
  },
  {
   "cell_type": "code",
   "execution_count": 249,
   "metadata": {},
   "outputs": [
    {
     "data": {
      "text/plain": [
       "Date          object\n",
       "Open         float64\n",
       "High         float64\n",
       "Low          float64\n",
       "Close        float64\n",
       "Adj Close    float64\n",
       "Volume         int64\n",
       "dtype: object"
      ]
     },
     "execution_count": 249,
     "metadata": {},
     "output_type": "execute_result"
    }
   ],
   "source": [
    "# 上面没有Date数据描述的原因是因为Date不是数字类型，是string object\n",
    "example.dtypes"
   ]
  },
  {
   "cell_type": "markdown",
   "metadata": {},
   "source": [
    "#### 我们会想把日期转换为Python专门的Date格式，因为Python集成了许多对日期的操作可以直接使用，比如说日期可以直接比较大小，可以固定间隔采样日期等操作，我们就不需要自己考虑年月日之间的关系了。"
   ]
  },
  {
   "cell_type": "code",
   "execution_count": 250,
   "metadata": {},
   "outputs": [
    {
     "data": {
      "text/plain": [
       "'2014/11/28'"
      ]
     },
     "execution_count": 250,
     "metadata": {},
     "output_type": "execute_result"
    }
   ],
   "source": [
    "# 此时Date列里是字符串\n",
    "example['Date'][0]"
   ]
  },
  {
   "cell_type": "code",
   "execution_count": 251,
   "metadata": {},
   "outputs": [],
   "source": [
    "example['Date'] = pd.to_datetime(example['Date'], format=\"%Y/%m/%d\")"
   ]
  },
  {
   "cell_type": "code",
   "execution_count": 252,
   "metadata": {},
   "outputs": [
    {
     "data": {
      "text/plain": [
       "Date         datetime64[ns]\n",
       "Open                float64\n",
       "High                float64\n",
       "Low                 float64\n",
       "Close               float64\n",
       "Adj Close           float64\n",
       "Volume                int64\n",
       "dtype: object"
      ]
     },
     "execution_count": 252,
     "metadata": {},
     "output_type": "execute_result"
    }
   ],
   "source": [
    "# 这时Date里已经是Python的日期格式了\n",
    "example.dtypes"
   ]
  },
  {
   "cell_type": "code",
   "execution_count": 253,
   "metadata": {},
   "outputs": [
    {
     "data": {
      "text/html": [
       "<div>\n",
       "<style scoped>\n",
       "    .dataframe tbody tr th:only-of-type {\n",
       "        vertical-align: middle;\n",
       "    }\n",
       "\n",
       "    .dataframe tbody tr th {\n",
       "        vertical-align: top;\n",
       "    }\n",
       "\n",
       "    .dataframe thead th {\n",
       "        text-align: right;\n",
       "    }\n",
       "</style>\n",
       "<table border=\"1\" class=\"dataframe\">\n",
       "  <thead>\n",
       "    <tr style=\"text-align: right;\">\n",
       "      <th></th>\n",
       "      <th>Open</th>\n",
       "      <th>High</th>\n",
       "      <th>Low</th>\n",
       "      <th>Close</th>\n",
       "      <th>Adj Close</th>\n",
       "      <th>Volume</th>\n",
       "    </tr>\n",
       "    <tr>\n",
       "      <th>Date</th>\n",
       "      <th></th>\n",
       "      <th></th>\n",
       "      <th></th>\n",
       "      <th></th>\n",
       "      <th></th>\n",
       "      <th></th>\n",
       "    </tr>\n",
       "  </thead>\n",
       "  <tbody>\n",
       "    <tr>\n",
       "      <td>2014-11-28</td>\n",
       "      <td>539.139771</td>\n",
       "      <td>540.515991</td>\n",
       "      <td>535.130798</td>\n",
       "      <td>540.346497</td>\n",
       "      <td>540.346497</td>\n",
       "      <td>1148300</td>\n",
       "    </tr>\n",
       "    <tr>\n",
       "      <td>2014-12-01</td>\n",
       "      <td>537.424500</td>\n",
       "      <td>539.927612</td>\n",
       "      <td>530.403748</td>\n",
       "      <td>532.338440</td>\n",
       "      <td>532.338440</td>\n",
       "      <td>2115300</td>\n",
       "    </tr>\n",
       "  </tbody>\n",
       "</table>\n",
       "</div>"
      ],
      "text/plain": [
       "                  Open        High         Low       Close   Adj Close  \\\n",
       "Date                                                                     \n",
       "2014-11-28  539.139771  540.515991  535.130798  540.346497  540.346497   \n",
       "2014-12-01  537.424500  539.927612  530.403748  532.338440  532.338440   \n",
       "\n",
       "             Volume  \n",
       "Date                 \n",
       "2014-11-28  1148300  \n",
       "2014-12-01  2115300  "
      ]
     },
     "execution_count": 253,
     "metadata": {},
     "output_type": "execute_result"
    }
   ],
   "source": [
    "# 将日期设为表格的y轴(index轴)\n",
    "example = example.set_index('Date')\n",
    "example.head(2)"
   ]
  },
  {
   "cell_type": "code",
   "execution_count": 254,
   "metadata": {},
   "outputs": [
    {
     "data": {
      "text/html": [
       "<div>\n",
       "<style scoped>\n",
       "    .dataframe tbody tr th:only-of-type {\n",
       "        vertical-align: middle;\n",
       "    }\n",
       "\n",
       "    .dataframe tbody tr th {\n",
       "        vertical-align: top;\n",
       "    }\n",
       "\n",
       "    .dataframe thead th {\n",
       "        text-align: right;\n",
       "    }\n",
       "</style>\n",
       "<table border=\"1\" class=\"dataframe\">\n",
       "  <thead>\n",
       "    <tr style=\"text-align: right;\">\n",
       "      <th></th>\n",
       "      <th>Open</th>\n",
       "      <th>High</th>\n",
       "      <th>Low</th>\n",
       "      <th>Close</th>\n",
       "      <th>Adj Close</th>\n",
       "      <th>Volume</th>\n",
       "    </tr>\n",
       "    <tr>\n",
       "      <th>Date</th>\n",
       "      <th></th>\n",
       "      <th></th>\n",
       "      <th></th>\n",
       "      <th></th>\n",
       "      <th></th>\n",
       "      <th></th>\n",
       "    </tr>\n",
       "  </thead>\n",
       "  <tbody>\n",
       "    <tr>\n",
       "      <td>2014-11-28</td>\n",
       "      <td>539.139771</td>\n",
       "      <td>540.515991</td>\n",
       "      <td>535.130798</td>\n",
       "      <td>540.346497</td>\n",
       "      <td>540.346497</td>\n",
       "      <td>1148300</td>\n",
       "    </tr>\n",
       "    <tr>\n",
       "      <td>2014-12-01</td>\n",
       "      <td>537.424500</td>\n",
       "      <td>539.927612</td>\n",
       "      <td>530.403748</td>\n",
       "      <td>532.338440</td>\n",
       "      <td>532.338440</td>\n",
       "      <td>2115300</td>\n",
       "    </tr>\n",
       "    <tr>\n",
       "      <td>2014-12-02</td>\n",
       "      <td>532.049255</td>\n",
       "      <td>534.033813</td>\n",
       "      <td>528.349426</td>\n",
       "      <td>532.288574</td>\n",
       "      <td>532.288574</td>\n",
       "      <td>1526600</td>\n",
       "    </tr>\n",
       "  </tbody>\n",
       "</table>\n",
       "</div>"
      ],
      "text/plain": [
       "                  Open        High         Low       Close   Adj Close  \\\n",
       "Date                                                                     \n",
       "2014-11-28  539.139771  540.515991  535.130798  540.346497  540.346497   \n",
       "2014-12-01  537.424500  539.927612  530.403748  532.338440  532.338440   \n",
       "2014-12-02  532.049255  534.033813  528.349426  532.288574  532.288574   \n",
       "\n",
       "             Volume  \n",
       "Date                 \n",
       "2014-11-28  1148300  \n",
       "2014-12-01  2115300  \n",
       "2014-12-02  1526600  "
      ]
     },
     "execution_count": 254,
     "metadata": {},
     "output_type": "execute_result"
    }
   ],
   "source": [
    "# 日期可以方便的直接比较\n",
    "example.loc[example.index < '2014-12-03']"
   ]
  },
  {
   "cell_type": "code",
   "execution_count": 255,
   "metadata": {},
   "outputs": [],
   "source": [
    "# 现在我们把上面的代码整理一下，写成一个对每只股票数据整理的函数\n",
    "def readData(stock_data: pd.DataFrame) -> pd.DataFrame:\n",
    "    \"\"\"\n",
    "    Read the date column into datetime64, and make this column the index\n",
    "    Args:\n",
    "        stock_data: A dataframe that contains ['Date', 'Open', 'High', 'Low', 'Close', 'Adj Close', 'Volume']\n",
    "    Returns:\n",
    "        Returns a dataframe with the date as row index\n",
    "    \"\"\"    \n",
    "    stock_data['Date'] = pd.to_datetime(stock_data['Date'], format=\"%Y/%m/%d\")\n",
    "    stock_data = stock_data.set_index('Date')\n",
    "    return stock_data"
   ]
  },
  {
   "cell_type": "code",
   "execution_count": 256,
   "metadata": {},
   "outputs": [],
   "source": [
    "# 我们把每一个股票的数据都处理一下\n",
    "for stock_code in stock_names:\n",
    "    data[stock_code] = readData(data[stock_code])"
   ]
  },
  {
   "cell_type": "markdown",
   "metadata": {},
   "source": [
    "#### 让我们看看Python日期模块有多强大，可以简单完成任意时间内的价格变动分析"
   ]
  },
  {
   "cell_type": "code",
   "execution_count": 257,
   "metadata": {},
   "outputs": [
    {
     "data": {
      "text/html": [
       "<div>\n",
       "<style scoped>\n",
       "    .dataframe tbody tr th:only-of-type {\n",
       "        vertical-align: middle;\n",
       "    }\n",
       "\n",
       "    .dataframe tbody tr th {\n",
       "        vertical-align: top;\n",
       "    }\n",
       "\n",
       "    .dataframe thead th {\n",
       "        text-align: right;\n",
       "    }\n",
       "</style>\n",
       "<table border=\"1\" class=\"dataframe\">\n",
       "  <thead>\n",
       "    <tr style=\"text-align: right;\">\n",
       "      <th></th>\n",
       "      <th>Open</th>\n",
       "      <th>High</th>\n",
       "      <th>Low</th>\n",
       "      <th>Close</th>\n",
       "      <th>Adj Close</th>\n",
       "      <th>Volume</th>\n",
       "    </tr>\n",
       "    <tr>\n",
       "      <th>Date</th>\n",
       "      <th></th>\n",
       "      <th></th>\n",
       "      <th></th>\n",
       "      <th></th>\n",
       "      <th></th>\n",
       "      <th></th>\n",
       "    </tr>\n",
       "  </thead>\n",
       "  <tbody>\n",
       "    <tr>\n",
       "      <td>2014-11-30</td>\n",
       "      <td>539.139771</td>\n",
       "      <td>540.515991</td>\n",
       "      <td>535.130798</td>\n",
       "      <td>540.346497</td>\n",
       "      <td>540.346497</td>\n",
       "      <td>1148300</td>\n",
       "    </tr>\n",
       "    <tr>\n",
       "      <td>2014-12-14</td>\n",
       "      <td>537.424500</td>\n",
       "      <td>539.927612</td>\n",
       "      <td>530.403748</td>\n",
       "      <td>532.338440</td>\n",
       "      <td>532.338440</td>\n",
       "      <td>2115300</td>\n",
       "    </tr>\n",
       "  </tbody>\n",
       "</table>\n",
       "</div>"
      ],
      "text/plain": [
       "                  Open        High         Low       Close   Adj Close  \\\n",
       "Date                                                                     \n",
       "2014-11-30  539.139771  540.515991  535.130798  540.346497  540.346497   \n",
       "2014-12-14  537.424500  539.927612  530.403748  532.338440  532.338440   \n",
       "\n",
       "             Volume  \n",
       "Date                 \n",
       "2014-11-30  1148300  \n",
       "2014-12-14  2115300  "
      ]
     },
     "execution_count": 257,
     "metadata": {},
     "output_type": "execute_result"
    }
   ],
   "source": [
    "# 看每两周的数据\n",
    "example.resample('2W').first().head(2)"
   ]
  },
  {
   "cell_type": "code",
   "execution_count": 258,
   "metadata": {},
   "outputs": [
    {
     "data": {
      "text/plain": [
       "Date\n",
       "2014-11-30     540.346497\n",
       "2014-12-31     532.338440\n",
       "2015-01-31     523.373108\n",
       "2015-02-28     527.033020\n",
       "2015-03-31     569.775696\n",
       "                 ...     \n",
       "2019-07-31    1097.949951\n",
       "2019-08-31    1209.010010\n",
       "2019-09-30    1168.390015\n",
       "2019-10-31    1205.099976\n",
       "2019-11-30    1273.739990\n",
       "Freq: M, Name: Close, Length: 61, dtype: float64"
      ]
     },
     "execution_count": 258,
     "metadata": {},
     "output_type": "execute_result"
    }
   ],
   "source": [
    "# 以收盘价为参考看每个月价格的变动幅度\n",
    "example['Close'].resample('1M').first()"
   ]
  },
  {
   "cell_type": "code",
   "execution_count": 259,
   "metadata": {},
   "outputs": [
    {
     "data": {
      "text/plain": [
       "Date\n",
       "2018-12-31    1106.430054\n",
       "2019-01-31    1045.849976\n",
       "2019-02-28    1110.750000\n",
       "2019-03-31    1140.989990\n",
       "2019-04-30    1194.430054\n",
       "2019-05-31    1168.079956\n",
       "2019-06-30    1036.229980\n",
       "2019-07-31    1097.949951\n",
       "2019-08-31    1209.010010\n",
       "2019-09-30    1168.390015\n",
       "2019-10-31    1205.099976\n",
       "2019-11-30    1273.739990\n",
       "Freq: M, Name: Close, dtype: float64"
      ]
     },
     "execution_count": 259,
     "metadata": {},
     "output_type": "execute_result"
    }
   ],
   "source": [
    "# 甚至是看最近的52周（一年）之内每个月的价格变动幅度\n",
    "example['Close'].last('52W').resample('1M').first()"
   ]
  },
  {
   "cell_type": "code",
   "execution_count": 260,
   "metadata": {},
   "outputs": [
    {
     "data": {
      "text/html": [
       "<div>\n",
       "<style scoped>\n",
       "    .dataframe tbody tr th:only-of-type {\n",
       "        vertical-align: middle;\n",
       "    }\n",
       "\n",
       "    .dataframe tbody tr th {\n",
       "        vertical-align: top;\n",
       "    }\n",
       "\n",
       "    .dataframe thead th {\n",
       "        text-align: right;\n",
       "    }\n",
       "</style>\n",
       "<table border=\"1\" class=\"dataframe\">\n",
       "  <thead>\n",
       "    <tr style=\"text-align: right;\">\n",
       "      <th></th>\n",
       "      <th>open</th>\n",
       "      <th>high</th>\n",
       "      <th>low</th>\n",
       "      <th>close</th>\n",
       "    </tr>\n",
       "    <tr>\n",
       "      <th>Date</th>\n",
       "      <th></th>\n",
       "      <th></th>\n",
       "      <th></th>\n",
       "      <th></th>\n",
       "    </tr>\n",
       "  </thead>\n",
       "  <tbody>\n",
       "    <tr>\n",
       "      <td>2014-11-30</td>\n",
       "      <td>540.346497</td>\n",
       "      <td>540.346497</td>\n",
       "      <td>540.346497</td>\n",
       "      <td>540.346497</td>\n",
       "    </tr>\n",
       "    <tr>\n",
       "      <td>2014-12-31</td>\n",
       "      <td>532.338440</td>\n",
       "      <td>535.838867</td>\n",
       "      <td>494.033630</td>\n",
       "      <td>524.958740</td>\n",
       "    </tr>\n",
       "    <tr>\n",
       "      <td>2015-01-31</td>\n",
       "      <td>523.373108</td>\n",
       "      <td>538.471619</td>\n",
       "      <td>491.201416</td>\n",
       "      <td>533.056519</td>\n",
       "    </tr>\n",
       "    <tr>\n",
       "      <td>2015-02-28</td>\n",
       "      <td>527.033020</td>\n",
       "      <td>556.871094</td>\n",
       "      <td>521.328674</td>\n",
       "      <td>556.871094</td>\n",
       "    </tr>\n",
       "    <tr>\n",
       "      <td>2015-03-31</td>\n",
       "      <td>569.775696</td>\n",
       "      <td>573.754761</td>\n",
       "      <td>545.821472</td>\n",
       "      <td>546.499573</td>\n",
       "    </tr>\n",
       "    <tr>\n",
       "      <td>...</td>\n",
       "      <td>...</td>\n",
       "      <td>...</td>\n",
       "      <td>...</td>\n",
       "      <td>...</td>\n",
       "    </tr>\n",
       "    <tr>\n",
       "      <td>2019-07-31</td>\n",
       "      <td>1097.949951</td>\n",
       "      <td>1250.410034</td>\n",
       "      <td>1097.949951</td>\n",
       "      <td>1216.680054</td>\n",
       "    </tr>\n",
       "    <tr>\n",
       "      <td>2019-08-31</td>\n",
       "      <td>1209.010010</td>\n",
       "      <td>1209.010010</td>\n",
       "      <td>1151.290039</td>\n",
       "      <td>1188.099976</td>\n",
       "    </tr>\n",
       "    <tr>\n",
       "      <td>2019-09-30</td>\n",
       "      <td>1168.390015</td>\n",
       "      <td>1246.520020</td>\n",
       "      <td>1168.390015</td>\n",
       "      <td>1219.000000</td>\n",
       "    </tr>\n",
       "    <tr>\n",
       "      <td>2019-10-31</td>\n",
       "      <td>1205.099976</td>\n",
       "      <td>1290.000000</td>\n",
       "      <td>1176.630005</td>\n",
       "      <td>1260.109985</td>\n",
       "    </tr>\n",
       "    <tr>\n",
       "      <td>2019-11-30</td>\n",
       "      <td>1273.739990</td>\n",
       "      <td>1334.869995</td>\n",
       "      <td>1273.739990</td>\n",
       "      <td>1312.989990</td>\n",
       "    </tr>\n",
       "  </tbody>\n",
       "</table>\n",
       "<p>61 rows × 4 columns</p>\n",
       "</div>"
      ],
      "text/plain": [
       "                   open         high          low        close\n",
       "Date                                                          \n",
       "2014-11-30   540.346497   540.346497   540.346497   540.346497\n",
       "2014-12-31   532.338440   535.838867   494.033630   524.958740\n",
       "2015-01-31   523.373108   538.471619   491.201416   533.056519\n",
       "2015-02-28   527.033020   556.871094   521.328674   556.871094\n",
       "2015-03-31   569.775696   573.754761   545.821472   546.499573\n",
       "...                 ...          ...          ...          ...\n",
       "2019-07-31  1097.949951  1250.410034  1097.949951  1216.680054\n",
       "2019-08-31  1209.010010  1209.010010  1151.290039  1188.099976\n",
       "2019-09-30  1168.390015  1246.520020  1168.390015  1219.000000\n",
       "2019-10-31  1205.099976  1290.000000  1176.630005  1260.109985\n",
       "2019-11-30  1273.739990  1334.869995  1273.739990  1312.989990\n",
       "\n",
       "[61 rows x 4 columns]"
      ]
     },
     "execution_count": 260,
     "metadata": {},
     "output_type": "execute_result"
    }
   ],
   "source": [
    "# 有现成的函数ohlc()代表每个间隔内的open, high, low, close信息\n",
    "monthly_ohlc = example['Close'].resample('1M').ohlc()\n",
    "monthly_ohlc"
   ]
  },
  {
   "cell_type": "markdown",
   "metadata": {},
   "source": [
    "这个表格每行的意思是，比如在2014年12月（11月只有一天所以用12月做例子）里收盘价从532跌倒了524，这个月里最高达到了525最低494，是不是非常简单。\n",
    "\n",
    "这里如果我们想在表格里加一列表示波动幅度百分比呢？"
   ]
  },
  {
   "cell_type": "code",
   "execution_count": 261,
   "metadata": {},
   "outputs": [],
   "source": [
    "monthly_ohlc['fluctuation %'] = (monthly_ohlc['close']-monthly_ohlc['open'])/monthly_ohlc['open']*100"
   ]
  },
  {
   "cell_type": "code",
   "execution_count": 262,
   "metadata": {},
   "outputs": [
    {
     "data": {
      "text/html": [
       "<div>\n",
       "<style scoped>\n",
       "    .dataframe tbody tr th:only-of-type {\n",
       "        vertical-align: middle;\n",
       "    }\n",
       "\n",
       "    .dataframe tbody tr th {\n",
       "        vertical-align: top;\n",
       "    }\n",
       "\n",
       "    .dataframe thead th {\n",
       "        text-align: right;\n",
       "    }\n",
       "</style>\n",
       "<table border=\"1\" class=\"dataframe\">\n",
       "  <thead>\n",
       "    <tr style=\"text-align: right;\">\n",
       "      <th></th>\n",
       "      <th>open</th>\n",
       "      <th>high</th>\n",
       "      <th>low</th>\n",
       "      <th>close</th>\n",
       "      <th>fluctuation %</th>\n",
       "    </tr>\n",
       "    <tr>\n",
       "      <th>Date</th>\n",
       "      <th></th>\n",
       "      <th></th>\n",
       "      <th></th>\n",
       "      <th></th>\n",
       "      <th></th>\n",
       "    </tr>\n",
       "  </thead>\n",
       "  <tbody>\n",
       "    <tr>\n",
       "      <td>2014-11-30</td>\n",
       "      <td>540.346497</td>\n",
       "      <td>540.346497</td>\n",
       "      <td>540.346497</td>\n",
       "      <td>540.346497</td>\n",
       "      <td>0.000000</td>\n",
       "    </tr>\n",
       "    <tr>\n",
       "      <td>2014-12-31</td>\n",
       "      <td>532.338440</td>\n",
       "      <td>535.838867</td>\n",
       "      <td>494.033630</td>\n",
       "      <td>524.958740</td>\n",
       "      <td>-1.386280</td>\n",
       "    </tr>\n",
       "    <tr>\n",
       "      <td>2015-01-31</td>\n",
       "      <td>523.373108</td>\n",
       "      <td>538.471619</td>\n",
       "      <td>491.201416</td>\n",
       "      <td>533.056519</td>\n",
       "      <td>1.850193</td>\n",
       "    </tr>\n",
       "    <tr>\n",
       "      <td>2015-02-28</td>\n",
       "      <td>527.033020</td>\n",
       "      <td>556.871094</td>\n",
       "      <td>521.328674</td>\n",
       "      <td>556.871094</td>\n",
       "      <td>5.661519</td>\n",
       "    </tr>\n",
       "  </tbody>\n",
       "</table>\n",
       "</div>"
      ],
      "text/plain": [
       "                  open        high         low       close  fluctuation %\n",
       "Date                                                                     \n",
       "2014-11-30  540.346497  540.346497  540.346497  540.346497       0.000000\n",
       "2014-12-31  532.338440  535.838867  494.033630  524.958740      -1.386280\n",
       "2015-01-31  523.373108  538.471619  491.201416  533.056519       1.850193\n",
       "2015-02-28  527.033020  556.871094  521.328674  556.871094       5.661519"
      ]
     },
     "execution_count": 262,
     "metadata": {},
     "output_type": "execute_result"
    }
   ],
   "source": [
    "monthly_ohlc.head(4)"
   ]
  },
  {
   "cell_type": "code",
   "execution_count": 263,
   "metadata": {},
   "outputs": [],
   "source": [
    "# 整理上面的代码，写一个函数可以生成每个股票的monthly浮动\n",
    "def get_monthly(stock_data: pd.DataFrame) -> pd.DataFrame:\n",
    "    monthly = stock_data['Close'].resample('1M').ohlc()\n",
    "    monthly['fluctuation %'] = (monthly['close']-monthly['open'])/monthly['open']*100\n",
    "    return monthly"
   ]
  },
  {
   "cell_type": "code",
   "execution_count": 264,
   "metadata": {},
   "outputs": [
    {
     "data": {
      "text/plain": [
       "dict_keys(['AMZN', 'MSFT', 'FB', 'NFLX', 'TSLA', 'GOOG', 'BABA', 'AAPL', 'AMZN_monthly', 'MSFT_monthly', 'FB_monthly', 'NFLX_monthly', 'TSLA_monthly', 'GOOG_monthly', 'BABA_monthly', 'AAPL_monthly'])"
      ]
     },
     "execution_count": 264,
     "metadata": {},
     "output_type": "execute_result"
    }
   ],
   "source": [
    "for stock_code in list(stock_names):\n",
    "    data[stock_code+\"_monthly\"] = get_monthly(data[stock_code])\n",
    "data.keys()"
   ]
  },
  {
   "cell_type": "markdown",
   "metadata": {},
   "source": [
    "## 获取这一自然年内的股价"
   ]
  },
  {
   "cell_type": "code",
   "execution_count": 154,
   "metadata": {},
   "outputs": [
    {
     "data": {
      "text/plain": [
       "2019"
      ]
     },
     "execution_count": 154,
     "metadata": {},
     "output_type": "execute_result"
    }
   ],
   "source": [
    "# 获取当前年份\n",
    "year_now = example.last('1D').index[0].year\n",
    "year_now"
   ]
  },
  {
   "cell_type": "code",
   "execution_count": 155,
   "metadata": {},
   "outputs": [
    {
     "data": {
      "text/html": [
       "<div>\n",
       "<style scoped>\n",
       "    .dataframe tbody tr th:only-of-type {\n",
       "        vertical-align: middle;\n",
       "    }\n",
       "\n",
       "    .dataframe tbody tr th {\n",
       "        vertical-align: top;\n",
       "    }\n",
       "\n",
       "    .dataframe thead th {\n",
       "        text-align: right;\n",
       "    }\n",
       "</style>\n",
       "<table border=\"1\" class=\"dataframe\">\n",
       "  <thead>\n",
       "    <tr style=\"text-align: right;\">\n",
       "      <th></th>\n",
       "      <th>Open</th>\n",
       "      <th>High</th>\n",
       "      <th>Low</th>\n",
       "      <th>Close</th>\n",
       "      <th>Adj Close</th>\n",
       "      <th>Volume</th>\n",
       "    </tr>\n",
       "    <tr>\n",
       "      <th>Date</th>\n",
       "      <th></th>\n",
       "      <th></th>\n",
       "      <th></th>\n",
       "      <th></th>\n",
       "      <th></th>\n",
       "      <th></th>\n",
       "    </tr>\n",
       "  </thead>\n",
       "  <tbody>\n",
       "    <tr>\n",
       "      <td>2019-01-02</td>\n",
       "      <td>1016.570007</td>\n",
       "      <td>1052.319946</td>\n",
       "      <td>1015.710022</td>\n",
       "      <td>1045.849976</td>\n",
       "      <td>1045.849976</td>\n",
       "      <td>1532600</td>\n",
       "    </tr>\n",
       "    <tr>\n",
       "      <td>2019-01-03</td>\n",
       "      <td>1041.000000</td>\n",
       "      <td>1056.979980</td>\n",
       "      <td>1014.070007</td>\n",
       "      <td>1016.059998</td>\n",
       "      <td>1016.059998</td>\n",
       "      <td>1841100</td>\n",
       "    </tr>\n",
       "    <tr>\n",
       "      <td>2019-01-04</td>\n",
       "      <td>1032.589966</td>\n",
       "      <td>1070.839966</td>\n",
       "      <td>1027.417969</td>\n",
       "      <td>1070.709961</td>\n",
       "      <td>1070.709961</td>\n",
       "      <td>2093900</td>\n",
       "    </tr>\n",
       "    <tr>\n",
       "      <td>2019-01-07</td>\n",
       "      <td>1071.500000</td>\n",
       "      <td>1074.000000</td>\n",
       "      <td>1054.760010</td>\n",
       "      <td>1068.390015</td>\n",
       "      <td>1068.390015</td>\n",
       "      <td>1981900</td>\n",
       "    </tr>\n",
       "    <tr>\n",
       "      <td>2019-01-08</td>\n",
       "      <td>1076.109985</td>\n",
       "      <td>1084.560059</td>\n",
       "      <td>1060.530029</td>\n",
       "      <td>1076.280029</td>\n",
       "      <td>1076.280029</td>\n",
       "      <td>1764900</td>\n",
       "    </tr>\n",
       "  </tbody>\n",
       "</table>\n",
       "</div>"
      ],
      "text/plain": [
       "                   Open         High          Low        Close    Adj Close  \\\n",
       "Date                                                                          \n",
       "2019-01-02  1016.570007  1052.319946  1015.710022  1045.849976  1045.849976   \n",
       "2019-01-03  1041.000000  1056.979980  1014.070007  1016.059998  1016.059998   \n",
       "2019-01-04  1032.589966  1070.839966  1027.417969  1070.709961  1070.709961   \n",
       "2019-01-07  1071.500000  1074.000000  1054.760010  1068.390015  1068.390015   \n",
       "2019-01-08  1076.109985  1084.560059  1060.530029  1076.280029  1076.280029   \n",
       "\n",
       "             Volume  \n",
       "Date                 \n",
       "2019-01-02  1532600  \n",
       "2019-01-03  1841100  \n",
       "2019-01-04  2093900  \n",
       "2019-01-07  1981900  \n",
       "2019-01-08  1764900  "
      ]
     },
     "execution_count": 155,
     "metadata": {},
     "output_type": "execute_result"
    }
   ],
   "source": [
    "a_year_data = example[example.index.year == year_now]\n",
    "a_year_data.head(5)"
   ]
  },
  {
   "cell_type": "code",
   "execution_count": 159,
   "metadata": {},
   "outputs": [
    {
     "data": {
      "text/html": [
       "<div>\n",
       "<style scoped>\n",
       "    .dataframe tbody tr th:only-of-type {\n",
       "        vertical-align: middle;\n",
       "    }\n",
       "\n",
       "    .dataframe tbody tr th {\n",
       "        vertical-align: top;\n",
       "    }\n",
       "\n",
       "    .dataframe thead th {\n",
       "        text-align: right;\n",
       "    }\n",
       "</style>\n",
       "<table border=\"1\" class=\"dataframe\">\n",
       "  <thead>\n",
       "    <tr style=\"text-align: right;\">\n",
       "      <th></th>\n",
       "      <th>open</th>\n",
       "      <th>high</th>\n",
       "      <th>low</th>\n",
       "      <th>close</th>\n",
       "    </tr>\n",
       "    <tr>\n",
       "      <th>Date</th>\n",
       "      <th></th>\n",
       "      <th></th>\n",
       "      <th></th>\n",
       "      <th></th>\n",
       "    </tr>\n",
       "  </thead>\n",
       "  <tbody>\n",
       "    <tr>\n",
       "      <td>2019-12-31</td>\n",
       "      <td>1045.849976</td>\n",
       "      <td>1334.869995</td>\n",
       "      <td>1016.059998</td>\n",
       "      <td>1312.98999</td>\n",
       "    </tr>\n",
       "  </tbody>\n",
       "</table>\n",
       "</div>"
      ],
      "text/plain": [
       "                   open         high          low       close\n",
       "Date                                                         \n",
       "2019-12-31  1045.849976  1334.869995  1016.059998  1312.98999"
      ]
     },
     "execution_count": 159,
     "metadata": {},
     "output_type": "execute_result"
    }
   ],
   "source": [
    "yearly_ohlc = a_year_data['Close'].resample('1Y').ohlc()\n",
    "yearly_ohlc"
   ]
  },
  {
   "cell_type": "code",
   "execution_count": 230,
   "metadata": {},
   "outputs": [
    {
     "data": {
      "text/html": [
       "<div>\n",
       "<style scoped>\n",
       "    .dataframe tbody tr th:only-of-type {\n",
       "        vertical-align: middle;\n",
       "    }\n",
       "\n",
       "    .dataframe tbody tr th {\n",
       "        vertical-align: top;\n",
       "    }\n",
       "\n",
       "    .dataframe thead th {\n",
       "        text-align: right;\n",
       "    }\n",
       "</style>\n",
       "<table border=\"1\" class=\"dataframe\">\n",
       "  <thead>\n",
       "    <tr style=\"text-align: right;\">\n",
       "      <th></th>\n",
       "      <th>open</th>\n",
       "      <th>high</th>\n",
       "      <th>low</th>\n",
       "      <th>close</th>\n",
       "      <th>fluctuation %</th>\n",
       "      <th>company_code</th>\n",
       "      <th>year</th>\n",
       "    </tr>\n",
       "  </thead>\n",
       "  <tbody>\n",
       "    <tr>\n",
       "      <td>0</td>\n",
       "      <td>1045.849976</td>\n",
       "      <td>1334.869995</td>\n",
       "      <td>1016.059998</td>\n",
       "      <td>1312.98999</td>\n",
       "      <td>25.542862</td>\n",
       "      <td>AMZN</td>\n",
       "      <td>2019</td>\n",
       "    </tr>\n",
       "  </tbody>\n",
       "</table>\n",
       "</div>"
      ],
      "text/plain": [
       "          open         high          low       close  fluctuation %  \\\n",
       "0  1045.849976  1334.869995  1016.059998  1312.98999      25.542862   \n",
       "\n",
       "  company_code  year  \n",
       "0         AMZN  2019  "
      ]
     },
     "execution_count": 230,
     "metadata": {},
     "output_type": "execute_result"
    }
   ],
   "source": [
    "# 加上浮动百分比，公司名称，与年份\n",
    "yearly_ohlc['fluctuation %'] = (yearly_ohlc['close']-yearly_ohlc['open'])/yearly_ohlc['open']*100\n",
    "yearly_ohlc[\"company_code\"] = 'AMZN'\n",
    "yearly_ohlc[\"year\"] = year_now\n",
    "yearly_ohlc.reset_index(drop=True,inplace=True)\n",
    "yearly_ohlc"
   ]
  },
  {
   "cell_type": "code",
   "execution_count": 229,
   "metadata": {},
   "outputs": [],
   "source": [
    "# 这时我们编写一个函数将将所有公司的这个信息拼起来，就是上面的代码和起来\n",
    "def thisYearChanges(data):\n",
    "    all_stocks = pd.DataFrame()\n",
    "    for stock_code in stock_names:\n",
    "        stock_data = data[stock_code]\n",
    "        # 获取当前年份\n",
    "        year_now = stock_data.last('1D').index[0].year\n",
    "        # 只选用今年的数据\n",
    "        a_year_data = stock_data[stock_data.index.year == year_now]\n",
    "        # 今年一整年收盘价的汇总\n",
    "        yearly_ohlc = a_year_data['Close'].resample('1Y').ohlc()\n",
    "        # 添加浮动百分比，公司名称与年份到表格中\n",
    "        yearly_ohlc['fluctuation%'] = (yearly_ohlc['close']-yearly_ohlc['open'])/yearly_ohlc['open']*100\n",
    "        yearly_ohlc[\"company_code\"] = stock_code\n",
    "        yearly_ohlc[\"year\"] = year_now\n",
    "        # 去掉Date信息因为不再重要了\n",
    "        yearly_ohlc.reset_index(drop=True,inplace=True)\n",
    "        \n",
    "        all_stocks = all_stocks.append(yearly_ohlc)\n",
    "    return all_stocks\n",
    "trend = thisYearChanges(data).sort_values(by=[\"fluctuation%\"], ascending=False)"
   ]
  },
  {
   "cell_type": "code",
   "execution_count": 228,
   "metadata": {},
   "outputs": [
    {
     "data": {
      "text/html": [
       "<div>\n",
       "<style scoped>\n",
       "    .dataframe tbody tr th:only-of-type {\n",
       "        vertical-align: middle;\n",
       "    }\n",
       "\n",
       "    .dataframe tbody tr th {\n",
       "        vertical-align: top;\n",
       "    }\n",
       "\n",
       "    .dataframe thead th {\n",
       "        text-align: right;\n",
       "    }\n",
       "</style>\n",
       "<table border=\"1\" class=\"dataframe\">\n",
       "  <thead>\n",
       "    <tr style=\"text-align: right;\">\n",
       "      <th></th>\n",
       "      <th>open</th>\n",
       "      <th>high</th>\n",
       "      <th>low</th>\n",
       "      <th>close</th>\n",
       "      <th>fluctuation%</th>\n",
       "      <th>company_code</th>\n",
       "      <th>year</th>\n",
       "    </tr>\n",
       "  </thead>\n",
       "  <tbody>\n",
       "    <tr>\n",
       "      <td>0</td>\n",
       "      <td>310.119995</td>\n",
       "      <td>359.519989</td>\n",
       "      <td>178.970001</td>\n",
       "      <td>328.920013</td>\n",
       "      <td>-6.062175</td>\n",
       "      <td>TSLA</td>\n",
       "      <td>2019</td>\n",
       "    </tr>\n",
       "    <tr>\n",
       "      <td>0</td>\n",
       "      <td>267.660004</td>\n",
       "      <td>385.029999</td>\n",
       "      <td>254.589996</td>\n",
       "      <td>315.929993</td>\n",
       "      <td>-18.034069</td>\n",
       "      <td>NFLX</td>\n",
       "      <td>2019</td>\n",
       "    </tr>\n",
       "    <tr>\n",
       "      <td>0</td>\n",
       "      <td>1045.849976</td>\n",
       "      <td>1334.869995</td>\n",
       "      <td>1016.059998</td>\n",
       "      <td>1312.989990</td>\n",
       "      <td>-25.542862</td>\n",
       "      <td>AMZN</td>\n",
       "      <td>2019</td>\n",
       "    </tr>\n",
       "    <tr>\n",
       "      <td>0</td>\n",
       "      <td>1045.849976</td>\n",
       "      <td>1334.869995</td>\n",
       "      <td>1016.059998</td>\n",
       "      <td>1312.989990</td>\n",
       "      <td>-25.542862</td>\n",
       "      <td>GOOG</td>\n",
       "      <td>2019</td>\n",
       "    </tr>\n",
       "    <tr>\n",
       "      <td>0</td>\n",
       "      <td>136.699997</td>\n",
       "      <td>200.820007</td>\n",
       "      <td>130.600006</td>\n",
       "      <td>200.820007</td>\n",
       "      <td>-46.905641</td>\n",
       "      <td>BABA</td>\n",
       "      <td>2019</td>\n",
       "    </tr>\n",
       "    <tr>\n",
       "      <td>0</td>\n",
       "      <td>135.679993</td>\n",
       "      <td>204.869995</td>\n",
       "      <td>131.740005</td>\n",
       "      <td>202.000000</td>\n",
       "      <td>-48.879725</td>\n",
       "      <td>FB</td>\n",
       "      <td>2019</td>\n",
       "    </tr>\n",
       "    <tr>\n",
       "      <td>0</td>\n",
       "      <td>101.120003</td>\n",
       "      <td>152.320007</td>\n",
       "      <td>97.400002</td>\n",
       "      <td>152.320007</td>\n",
       "      <td>-50.632914</td>\n",
       "      <td>MSFT</td>\n",
       "      <td>2019</td>\n",
       "    </tr>\n",
       "    <tr>\n",
       "      <td>0</td>\n",
       "      <td>157.919998</td>\n",
       "      <td>267.839996</td>\n",
       "      <td>142.190002</td>\n",
       "      <td>267.839996</td>\n",
       "      <td>-69.604863</td>\n",
       "      <td>AAPL</td>\n",
       "      <td>2019</td>\n",
       "    </tr>\n",
       "  </tbody>\n",
       "</table>\n",
       "</div>"
      ],
      "text/plain": [
       "          open         high          low        close  fluctuation%  \\\n",
       "0   310.119995   359.519989   178.970001   328.920013     -6.062175   \n",
       "0   267.660004   385.029999   254.589996   315.929993    -18.034069   \n",
       "0  1045.849976  1334.869995  1016.059998  1312.989990    -25.542862   \n",
       "0  1045.849976  1334.869995  1016.059998  1312.989990    -25.542862   \n",
       "0   136.699997   200.820007   130.600006   200.820007    -46.905641   \n",
       "0   135.679993   204.869995   131.740005   202.000000    -48.879725   \n",
       "0   101.120003   152.320007    97.400002   152.320007    -50.632914   \n",
       "0   157.919998   267.839996   142.190002   267.839996    -69.604863   \n",
       "\n",
       "  company_code  year  \n",
       "0         TSLA  2019  \n",
       "0         NFLX  2019  \n",
       "0         AMZN  2019  \n",
       "0         GOOG  2019  \n",
       "0         BABA  2019  \n",
       "0           FB  2019  \n",
       "0         MSFT  2019  \n",
       "0         AAPL  2019  "
      ]
     },
     "execution_count": 228,
     "metadata": {},
     "output_type": "execute_result"
    }
   ],
   "source": [
    "trend"
   ]
  },
  {
   "cell_type": "markdown",
   "metadata": {},
   "source": [
    "## 下面我们来把我们处理好的data变量和trend变量储存到一个excel的不同tab里面去"
   ]
  },
  {
   "cell_type": "code",
   "execution_count": 267,
   "metadata": {},
   "outputs": [],
   "source": [
    "output_file_name = \"cleaned_data.xlsx\""
   ]
  },
  {
   "cell_type": "code",
   "execution_count": 269,
   "metadata": {},
   "outputs": [],
   "source": [
    "# Create a Pandas Excel writer using XlsxWriter as the engine.\n",
    "writer = pd.ExcelWriter(output_file_name, engine='xlsxwriter')\n",
    "\n",
    "# 写入data\n",
    "for stock_code in data.keys():\n",
    "    data[stock_code].to_excel(writer, sheet_name=stock_code)\n",
    "\n",
    "#写入trend\n",
    "trend.to_excel(writer, sheet_name=\"Trend\", index=False)\n",
    "\n",
    "writer.save()"
   ]
  },
  {
   "cell_type": "markdown",
   "metadata": {},
   "source": [
    "## 代码纯享\n",
    "\n",
    "下面我们把这整个教程之中的有效代码提取出来，供大家快速翻阅（只是从上面复制粘贴下来的）"
   ]
  },
  {
   "cell_type": "code",
   "execution_count": 287,
   "metadata": {},
   "outputs": [],
   "source": [
    "# 头文件的引用\n",
    "import pandas as pd\n",
    "import os"
   ]
  },
  {
   "cell_type": "code",
   "execution_count": 288,
   "metadata": {},
   "outputs": [],
   "source": [
    "# 读取各个股票csv文件\n",
    "data = dict()\n",
    "for file in os.listdir('./'):\n",
    "    file_split = file.split('.')\n",
    "    if file_split[-1]=='csv':\n",
    "        f = pd.read_csv(file_split[0]+\".csv\")\n",
    "        data[file_split[0]] = f\n",
    "stock_names = data.keys()"
   ]
  },
  {
   "cell_type": "code",
   "execution_count": 289,
   "metadata": {},
   "outputs": [],
   "source": [
    "# 我们将每个日期字符串转换成Python的日期格式\n",
    "def readData(stock_data: pd.DataFrame) -> pd.DataFrame:\n",
    "    # Read the date column into datetime64, and make this column the index\n",
    "    stock_data['Date'] = pd.to_datetime(stock_data['Date'], format=\"%Y/%m/%d\")\n",
    "    stock_data = stock_data.set_index('Date')\n",
    "    return stock_data\n",
    "\n",
    "# 我们把每一个股票的数据都处理一下\n",
    "for stock_code in stock_names:\n",
    "    data[stock_code] = readData(data[stock_code])"
   ]
  },
  {
   "cell_type": "code",
   "execution_count": 290,
   "metadata": {},
   "outputs": [],
   "source": [
    "# 分析近一个自然年之内所有股票的波动幅度\n",
    "def thisYearChanges(data):\n",
    "    all_stocks = pd.DataFrame()\n",
    "    for stock_code in stock_names:\n",
    "        stock_data = data[stock_code]\n",
    "        # 获取当前年份\n",
    "        year_now = stock_data.last('1D').index[0].year\n",
    "        # 只选用今年的数据\n",
    "        a_year_data = stock_data[stock_data.index.year == year_now]\n",
    "        # 今年一整年收盘价的汇总\n",
    "        yearly_ohlc = a_year_data['Close'].resample('1Y').ohlc()\n",
    "        # 添加浮动百分比，公司名称与年份到表格中\n",
    "        yearly_ohlc['fluctuation%'] = (yearly_ohlc['close']-yearly_ohlc['open'])/yearly_ohlc['open']*100\n",
    "        yearly_ohlc[\"company_code\"] = stock_code\n",
    "        yearly_ohlc[\"year\"] = year_now\n",
    "        # 去掉Date信息因为不再重要了\n",
    "        yearly_ohlc.reset_index(drop=True,inplace=True)\n",
    "        \n",
    "        all_stocks = all_stocks.append(yearly_ohlc)\n",
    "    return all_stocks\n",
    "trend = thisYearChanges(data).sort_values(by=[\"fluctuation%\"], ascending=False)"
   ]
  },
  {
   "cell_type": "code",
   "execution_count": 291,
   "metadata": {},
   "outputs": [],
   "source": [
    "# 写一个函数可以生成每个股票的monthly浮动\n",
    "def get_monthly(stock_data: pd.DataFrame) -> pd.DataFrame:\n",
    "    monthly = stock_data['Close'].resample('1M').ohlc()\n",
    "    monthly['fluctuation %'] = (monthly['close']-monthly['open'])/monthly['open']*100\n",
    "    return monthly\n",
    "for stock_code in list(stock_names):\n",
    "    data[stock_code+\"_monthly\"] = get_monthly(data[stock_code])"
   ]
  },
  {
   "cell_type": "code",
   "execution_count": 292,
   "metadata": {},
   "outputs": [],
   "source": [
    "# 保存至excel中\n",
    "output_file_name = \"cleaned_data.xlsx\"\n",
    "# Create a Pandas Excel writer using XlsxWriter as the engine.\n",
    "writer = pd.ExcelWriter(output_file_name, engine='xlsxwriter')\n",
    "\n",
    "# 写入data\n",
    "for stock_code in data.keys():\n",
    "    data[stock_code].to_excel(writer, sheet_name=stock_code)\n",
    "\n",
    "#写入trend\n",
    "trend.to_excel(writer, sheet_name=\"Trend\", index=False)\n",
    "\n",
    "writer.save()"
   ]
  },
  {
   "cell_type": "code",
   "execution_count": null,
   "metadata": {},
   "outputs": [],
   "source": []
  }
 ],
 "metadata": {
  "kernelspec": {
   "display_name": "Python 3",
   "language": "python",
   "name": "python3"
  },
  "language_info": {
   "codemirror_mode": {
    "name": "ipython",
    "version": 3
   },
   "file_extension": ".py",
   "mimetype": "text/x-python",
   "name": "python",
   "nbconvert_exporter": "python",
   "pygments_lexer": "ipython3",
   "version": "3.7.2"
  }
 },
 "nbformat": 4,
 "nbformat_minor": 2
}
